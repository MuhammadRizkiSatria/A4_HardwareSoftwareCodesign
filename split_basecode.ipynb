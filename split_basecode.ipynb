{
  "nbformat": 4,
  "nbformat_minor": 0,
  "metadata": {
    "colab": {
      "name": "split_basecode.ipynb",
      "provenance": [],
      "authorship_tag": "ABX9TyOFV5d960/CGtEjK+dfga+w"
    },
    "kernelspec": {
      "name": "python3",
      "display_name": "Python 3"
    },
    "language_info": {
      "name": "python"
    }
  },
  "cells": [
    {
      "cell_type": "code",
      "metadata": {
        "id": "3L5sGADTgm9z"
      },
      "source": [
        "import pandas as pd\n",
        "\n",
        "df = pd.read_csv('/kaggle/input/bluebook-for-bulldozers/TrainAndValid.csv', parse_dates=['saledate'], low_memory=False)\n",
        "\n",
        "\n",
        "from fast_ml.model_development import train_valid_test_split\n",
        "\n",
        "X_train, y_train, X_valid, y_valid = train_valid_test_split(df, target = 'SalePrice', \n",
        "                                                                            train_size=0.7, valid_size=0.3,)\n",
        "\n",
        "print(X_train.shape), print(y_train.shape)\n",
        "print(X_valid.shape), print(y_valid.shape)"
      ],
      "execution_count": null,
      "outputs": []
    }
  ]
}